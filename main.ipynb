{
 "cells": [
  {
   "cell_type": "code",
   "execution_count": 18,
   "metadata": {},
   "outputs": [
    {
     "data": {
      "application/vnd.jupyter.widget-view+json": {
       "model_id": "4a9195be9c024fc5b1e9dcf8c7e0d623",
       "version_major": 2,
       "version_minor": 0
      },
      "text/plain": [
       "Dropdown(description='Select File:', layout=Layout(width='300px'), options=(), value=None)"
      ]
     },
     "metadata": {},
     "output_type": "display_data"
    }
   ],
   "source": [
    "import ipywidgets as widgets\n",
    "from IPython.display import display\n",
    "import matplotlib.pyplot as plt\n",
    "# Get the list of log files in the folder\n",
    "log_files = [file for file in os.listdir(solutions_folder_path) if file.endswith('.log')]\n",
    "\n",
    "# Create the dropdown widget\n",
    "file_dropdown = widgets.Dropdown(\n",
    "    options=log_files,\n",
    "    description='Select File:',\n",
    "    layout=widgets.Layout(width='300px')\n",
    ")\n",
    "\n",
    "# Display the dropdown widget\n",
    "display(file_dropdown)\n",
    "log_file_name = \"0bb5e779-fee8-4696-89d4-4553ea903a2e.log\"\n",
    "log_file_path = solutions_folder_path + \"/\" + log_file_name\n",
    "\n",
    "\n",
    "def on_file_dropdown_change(change):\n",
    "    selected_file = change['new']\n",
    "    selected_file_path = solutions_folder_path + \"/\" + selected_file\n",
    "    plt.clf()\n",
    "    with open(selected_file_path, 'r') as file:\n",
    "        numbers = [float(line.strip()) for line in file]\n",
    "        plt.hist(numbers, bins=100)\n",
    "        plt.xlabel('Total Delivery Time')\n",
    "        plt.ylabel('Solution Frequency')\n",
    "        plt.title('Histogram of Solution Quality')\n",
    "        plt.show()\n",
    "\n",
    "        \n",
    "\n",
    "file_dropdown.observe(on_file_dropdown_change, names='value')\n"
   ]
  },
  {
   "cell_type": "code",
   "execution_count": 41,
   "metadata": {},
   "outputs": [
    {
     "name": "stdout",
     "output_type": "stream",
     "text": [
      "Current working directory: /Users/williambitsch/git/co-work2024-cpp\n",
      "Solver path: /Users/williambitsch/git/co-work2024-cpp/bin/solver\n",
      "Running the command: ['./bin/solver', 'Challenge/training_data_hard/.DS_Store', 'solver_parameters/simple_parameters', 'solutions/20240926140057_training_data_hard/.DS_Store']\n"
     ]
    },
    {
     "name": "stderr",
     "output_type": "stream",
     "text": [
      "libc++abi: terminating due to uncaught exception of type std::__1::__fs::filesystem::filesystem_error: filesystem error: in directory_iterator::directory_iterator(...): Not a directory [\"Challenge/training_data_hard/.DS_Store\"]\n"
     ]
    },
    {
     "name": "stdout",
     "output_type": "stream",
     "text": [
      "Running the command: ['./bin/solver', 'Challenge/training_data_hard/0052162a-da51-43f5-8eef-ca4a4dee897f', 'solver_parameters/simple_parameters', 'solutions/20240926140057_training_data_hard/0052162a-da51-43f5-8eef-ca4a4dee897f']\n",
      "Iterations: 540 done\n",
      "Routing successfully plan saved to solutions/20240926140057_training_data_hard/0052162a-da51-43f5-8eef-ca4a4dee897f.csv\n",
      "Running the command: ['./bin/solver', 'Challenge/training_data_hard/00c2dfc6-4346-4cde-9e53-40a2a31bb2e1', 'solver_parameters/simple_parameters', 'solutions/20240926140057_training_data_hard/00c2dfc6-4346-4cde-9e53-40a2a31bb2e1']\n",
      "Iterations: 363 done\n",
      "Routing successfully plan saved to solutions/20240926140057_training_data_hard/00c2dfc6-4346-4cde-9e53-40a2a31bb2e1.csv\n",
      "Running the command: ['./bin/solver', 'Challenge/training_data_hard/01888bc9-c68b-404a-9c23-f3da4b822ff7', 'solver_parameters/simple_parameters', 'solutions/20240926140057_training_data_hard/01888bc9-c68b-404a-9c23-f3da4b822ff7']\n"
     ]
    },
    {
     "ename": "KeyboardInterrupt",
     "evalue": "",
     "output_type": "error",
     "traceback": [
      "\u001b[0;31m---------------------------------------------------------------------------\u001b[0m",
      "\u001b[0;31mKeyboardInterrupt\u001b[0m                         Traceback (most recent call last)",
      "Cell \u001b[0;32mIn[41], line 77\u001b[0m\n\u001b[1;32m     73\u001b[0m solution_file_path \u001b[38;5;241m=\u001b[39m solutions_folder_path \u001b[38;5;241m+\u001b[39m \u001b[38;5;124m\"\u001b[39m\u001b[38;5;124m/\u001b[39m\u001b[38;5;124m\"\u001b[39m \u001b[38;5;241m+\u001b[39m problem_parameter_file\n\u001b[1;32m     74\u001b[0m \u001b[38;5;66;03m# print(\"Optimizing: \" + solution_file_path)\u001b[39;00m\n\u001b[1;32m     75\u001b[0m \u001b[38;5;66;03m# print(\"Problem Parameter File: \" + problem_parameter_file_path)\u001b[39;00m\n\u001b[1;32m     76\u001b[0m \u001b[38;5;66;03m# print(\"Solver Parameter File: \" + solver_parameter_file_path)\u001b[39;00m\n\u001b[0;32m---> 77\u001b[0m \u001b[43moptimize\u001b[49m\u001b[43m(\u001b[49m\u001b[43mproblem_parameter_file_path\u001b[49m\u001b[43m,\u001b[49m\u001b[43m \u001b[49m\u001b[43msolver_parameter_file_path\u001b[49m\u001b[43m,\u001b[49m\u001b[43m \u001b[49m\u001b[43msolution_file_path\u001b[49m\u001b[43m)\u001b[49m\n",
      "Cell \u001b[0;32mIn[41], line 26\u001b[0m, in \u001b[0;36moptimize\u001b[0;34m(problem_parameter_file_path, solver_parameter_file_path, solution_file_path)\u001b[0m\n\u001b[1;32m     24\u001b[0m \u001b[38;5;28mprint\u001b[39m(\u001b[38;5;124m\"\u001b[39m\u001b[38;5;124mRunning the command: \u001b[39m\u001b[38;5;124m\"\u001b[39m \u001b[38;5;241m+\u001b[39m \u001b[38;5;28mstr\u001b[39m(command))\n\u001b[1;32m     25\u001b[0m \u001b[38;5;66;03m# Run the program\u001b[39;00m\n\u001b[0;32m---> 26\u001b[0m \u001b[43msubprocess\u001b[49m\u001b[38;5;241;43m.\u001b[39;49m\u001b[43mrun\u001b[49m\u001b[43m(\u001b[49m\u001b[43mcommand\u001b[49m\u001b[43m)\u001b[49m\n",
      "File \u001b[0;32m/usr/local/Cellar/python@3.9/3.9.19_1/Frameworks/Python.framework/Versions/3.9/lib/python3.9/subprocess.py:507\u001b[0m, in \u001b[0;36mrun\u001b[0;34m(input, capture_output, timeout, check, *popenargs, **kwargs)\u001b[0m\n\u001b[1;32m    505\u001b[0m \u001b[38;5;28;01mwith\u001b[39;00m Popen(\u001b[38;5;241m*\u001b[39mpopenargs, \u001b[38;5;241m*\u001b[39m\u001b[38;5;241m*\u001b[39mkwargs) \u001b[38;5;28;01mas\u001b[39;00m process:\n\u001b[1;32m    506\u001b[0m     \u001b[38;5;28;01mtry\u001b[39;00m:\n\u001b[0;32m--> 507\u001b[0m         stdout, stderr \u001b[38;5;241m=\u001b[39m \u001b[43mprocess\u001b[49m\u001b[38;5;241;43m.\u001b[39;49m\u001b[43mcommunicate\u001b[49m\u001b[43m(\u001b[49m\u001b[38;5;28;43minput\u001b[39;49m\u001b[43m,\u001b[49m\u001b[43m \u001b[49m\u001b[43mtimeout\u001b[49m\u001b[38;5;241;43m=\u001b[39;49m\u001b[43mtimeout\u001b[49m\u001b[43m)\u001b[49m\n\u001b[1;32m    508\u001b[0m     \u001b[38;5;28;01mexcept\u001b[39;00m TimeoutExpired \u001b[38;5;28;01mas\u001b[39;00m exc:\n\u001b[1;32m    509\u001b[0m         process\u001b[38;5;241m.\u001b[39mkill()\n",
      "File \u001b[0;32m/usr/local/Cellar/python@3.9/3.9.19_1/Frameworks/Python.framework/Versions/3.9/lib/python3.9/subprocess.py:1126\u001b[0m, in \u001b[0;36mPopen.communicate\u001b[0;34m(self, input, timeout)\u001b[0m\n\u001b[1;32m   1124\u001b[0m         stderr \u001b[38;5;241m=\u001b[39m \u001b[38;5;28mself\u001b[39m\u001b[38;5;241m.\u001b[39mstderr\u001b[38;5;241m.\u001b[39mread()\n\u001b[1;32m   1125\u001b[0m         \u001b[38;5;28mself\u001b[39m\u001b[38;5;241m.\u001b[39mstderr\u001b[38;5;241m.\u001b[39mclose()\n\u001b[0;32m-> 1126\u001b[0m     \u001b[38;5;28;43mself\u001b[39;49m\u001b[38;5;241;43m.\u001b[39;49m\u001b[43mwait\u001b[49m\u001b[43m(\u001b[49m\u001b[43m)\u001b[49m\n\u001b[1;32m   1127\u001b[0m \u001b[38;5;28;01melse\u001b[39;00m:\n\u001b[1;32m   1128\u001b[0m     \u001b[38;5;28;01mif\u001b[39;00m timeout \u001b[38;5;129;01mis\u001b[39;00m \u001b[38;5;129;01mnot\u001b[39;00m \u001b[38;5;28;01mNone\u001b[39;00m:\n",
      "File \u001b[0;32m/usr/local/Cellar/python@3.9/3.9.19_1/Frameworks/Python.framework/Versions/3.9/lib/python3.9/subprocess.py:1189\u001b[0m, in \u001b[0;36mPopen.wait\u001b[0;34m(self, timeout)\u001b[0m\n\u001b[1;32m   1187\u001b[0m     endtime \u001b[38;5;241m=\u001b[39m _time() \u001b[38;5;241m+\u001b[39m timeout\n\u001b[1;32m   1188\u001b[0m \u001b[38;5;28;01mtry\u001b[39;00m:\n\u001b[0;32m-> 1189\u001b[0m     \u001b[38;5;28;01mreturn\u001b[39;00m \u001b[38;5;28;43mself\u001b[39;49m\u001b[38;5;241;43m.\u001b[39;49m\u001b[43m_wait\u001b[49m\u001b[43m(\u001b[49m\u001b[43mtimeout\u001b[49m\u001b[38;5;241;43m=\u001b[39;49m\u001b[43mtimeout\u001b[49m\u001b[43m)\u001b[49m\n\u001b[1;32m   1190\u001b[0m \u001b[38;5;28;01mexcept\u001b[39;00m \u001b[38;5;167;01mKeyboardInterrupt\u001b[39;00m:\n\u001b[1;32m   1191\u001b[0m     \u001b[38;5;66;03m# https://bugs.python.org/issue25942\u001b[39;00m\n\u001b[1;32m   1192\u001b[0m     \u001b[38;5;66;03m# The first keyboard interrupt waits briefly for the child to\u001b[39;00m\n\u001b[1;32m   1193\u001b[0m     \u001b[38;5;66;03m# exit under the common assumption that it also received the ^C\u001b[39;00m\n\u001b[1;32m   1194\u001b[0m     \u001b[38;5;66;03m# generated SIGINT and will exit rapidly.\u001b[39;00m\n\u001b[1;32m   1195\u001b[0m     \u001b[38;5;28;01mif\u001b[39;00m timeout \u001b[38;5;129;01mis\u001b[39;00m \u001b[38;5;129;01mnot\u001b[39;00m \u001b[38;5;28;01mNone\u001b[39;00m:\n",
      "File \u001b[0;32m/usr/local/Cellar/python@3.9/3.9.19_1/Frameworks/Python.framework/Versions/3.9/lib/python3.9/subprocess.py:1933\u001b[0m, in \u001b[0;36mPopen._wait\u001b[0;34m(self, timeout)\u001b[0m\n\u001b[1;32m   1931\u001b[0m \u001b[38;5;28;01mif\u001b[39;00m \u001b[38;5;28mself\u001b[39m\u001b[38;5;241m.\u001b[39mreturncode \u001b[38;5;129;01mis\u001b[39;00m \u001b[38;5;129;01mnot\u001b[39;00m \u001b[38;5;28;01mNone\u001b[39;00m:\n\u001b[1;32m   1932\u001b[0m     \u001b[38;5;28;01mbreak\u001b[39;00m  \u001b[38;5;66;03m# Another thread waited.\u001b[39;00m\n\u001b[0;32m-> 1933\u001b[0m (pid, sts) \u001b[38;5;241m=\u001b[39m \u001b[38;5;28;43mself\u001b[39;49m\u001b[38;5;241;43m.\u001b[39;49m\u001b[43m_try_wait\u001b[49m\u001b[43m(\u001b[49m\u001b[38;5;241;43m0\u001b[39;49m\u001b[43m)\u001b[49m\n\u001b[1;32m   1934\u001b[0m \u001b[38;5;66;03m# Check the pid and loop as waitpid has been known to\u001b[39;00m\n\u001b[1;32m   1935\u001b[0m \u001b[38;5;66;03m# return 0 even without WNOHANG in odd situations.\u001b[39;00m\n\u001b[1;32m   1936\u001b[0m \u001b[38;5;66;03m# http://bugs.python.org/issue14396.\u001b[39;00m\n\u001b[1;32m   1937\u001b[0m \u001b[38;5;28;01mif\u001b[39;00m pid \u001b[38;5;241m==\u001b[39m \u001b[38;5;28mself\u001b[39m\u001b[38;5;241m.\u001b[39mpid:\n",
      "File \u001b[0;32m/usr/local/Cellar/python@3.9/3.9.19_1/Frameworks/Python.framework/Versions/3.9/lib/python3.9/subprocess.py:1891\u001b[0m, in \u001b[0;36mPopen._try_wait\u001b[0;34m(self, wait_flags)\u001b[0m\n\u001b[1;32m   1889\u001b[0m \u001b[38;5;250m\u001b[39m\u001b[38;5;124;03m\"\"\"All callers to this function MUST hold self._waitpid_lock.\"\"\"\u001b[39;00m\n\u001b[1;32m   1890\u001b[0m \u001b[38;5;28;01mtry\u001b[39;00m:\n\u001b[0;32m-> 1891\u001b[0m     (pid, sts) \u001b[38;5;241m=\u001b[39m \u001b[43mos\u001b[49m\u001b[38;5;241;43m.\u001b[39;49m\u001b[43mwaitpid\u001b[49m\u001b[43m(\u001b[49m\u001b[38;5;28;43mself\u001b[39;49m\u001b[38;5;241;43m.\u001b[39;49m\u001b[43mpid\u001b[49m\u001b[43m,\u001b[49m\u001b[43m \u001b[49m\u001b[43mwait_flags\u001b[49m\u001b[43m)\u001b[49m\n\u001b[1;32m   1892\u001b[0m \u001b[38;5;28;01mexcept\u001b[39;00m \u001b[38;5;167;01mChildProcessError\u001b[39;00m:\n\u001b[1;32m   1893\u001b[0m     \u001b[38;5;66;03m# This happens if SIGCLD is set to be ignored or waiting\u001b[39;00m\n\u001b[1;32m   1894\u001b[0m     \u001b[38;5;66;03m# for child processes has otherwise been disabled for our\u001b[39;00m\n\u001b[1;32m   1895\u001b[0m     \u001b[38;5;66;03m# process.  This child is dead, we can't get the status.\u001b[39;00m\n\u001b[1;32m   1896\u001b[0m     pid \u001b[38;5;241m=\u001b[39m \u001b[38;5;28mself\u001b[39m\u001b[38;5;241m.\u001b[39mpid\n",
      "\u001b[0;31mKeyboardInterrupt\u001b[0m: "
     ]
    }
   ],
   "source": [
    "import sys\n",
    "import os\n",
    "import subprocess\n",
    "import time\n",
    "import shutil\n",
    "# SET UP THE RIGHT CONSTRAINTS BEFORE STARTING THE OPTIMIZATION:\n",
    "    # MAX 4 DELIVERIES\n",
    "    # MAX 180 MINUTES\n",
    "#\n",
    "\n",
    "\n",
    "def optimize(problem_parameter_file_path, solver_parameter_file_path, solution_file_path):\n",
    "    #copy the program into the current directory\n",
    "    program_path = \"bin/solver\" \n",
    "    \n",
    "    # Construct the command to run the program\n",
    "    command = (\n",
    "        [\"./\"+program_path] \n",
    "        + [problem_parameter_file_path]\n",
    "        + [solver_parameter_file_path]\n",
    "        + [solution_file_path]\n",
    "    )\n",
    "\n",
    "    print(\"Running the command: \" + str(command))\n",
    "    # Run the program\n",
    "    subprocess.run(command)\n",
    "\n",
    "\n",
    "# Add the script directory to the Python path\n",
    "sys.path.append('/Users/williambitsch/git/co-work2024-cpp')\n",
    "import datetime\n",
    "\n",
    "# Change the current working directory\n",
    "os.chdir('/Users/williambitsch/git/co-work2024-cpp')\n",
    "\n",
    "# Print the current working directory to verify\n",
    "print(f\"Current working directory: {os.getcwd()}\")\n",
    "\n",
    "# Define the path to the solver\n",
    "solver_path = os.path.abspath('bin/solver')\n",
    "print(f\"Solver path: {solver_path}\")\n",
    "\n",
    "# Check if the solver file exists\n",
    "if not os.path.exists(solver_path):\n",
    "    raise FileNotFoundError(f\"Solver file not found: {solver_path}\")\n",
    "\n",
    "\n",
    "problem_parameters_path = 'Challenge/training_data_hard'\n",
    "\n",
    "solver_parameters_path = 'solver_parameters'\n",
    "\n",
    "date_time = datetime.datetime.now().strftime('%Y%m%d%H%M%S')\n",
    "solutions_folder_path = f\"solutions/{date_time}_{problem_parameters_path.split('/')[-1]}\"\n",
    "\n",
    "# Get the list of files in the folder\n",
    "problem_parameter_files = os.listdir(problem_parameters_path)\n",
    "problem_parameter_files.sort()\n",
    "solver_parameter_files = os.listdir(solver_parameters_path)\n",
    "solver_parameter_files.sort()\n",
    "\n",
    "if not os.path.exists(solutions_folder_path):\n",
    "    os.makedirs(solutions_folder_path)\n",
    "\n",
    "time.sleep(1)\n",
    "\n",
    "# Iterate over each problem parameter file\n",
    "for problem_parameter_file in problem_parameter_files:\n",
    "    # Iterate over each solver parameter file\n",
    "    for solver_parameter_file in solver_parameter_files:\n",
    "        # Construct the file paths\n",
    "        problem_parameter_file_path = os.path.join(problem_parameters_path, problem_parameter_file)\n",
    "        solver_parameter_file_path = os.path.join(solver_parameters_path, solver_parameter_file)\n",
    "        solution_file_path = solutions_folder_path + \"/\" + problem_parameter_file\n",
    "        # print(\"Optimizing: \" + solution_file_path)\n",
    "        # print(\"Problem Parameter File: \" + problem_parameter_file_path)\n",
    "        # print(\"Solver Parameter File: \" + solver_parameter_file_path)\n",
    "        optimize(problem_parameter_file_path, solver_parameter_file_path, solution_file_path)"
   ]
  }
 ],
 "metadata": {
  "kernelspec": {
   "display_name": "Python 3",
   "language": "python",
   "name": "python3"
  },
  "language_info": {
   "codemirror_mode": {
    "name": "ipython",
    "version": 3
   },
   "file_extension": ".py",
   "mimetype": "text/x-python",
   "name": "python",
   "nbconvert_exporter": "python",
   "pygments_lexer": "ipython3",
   "version": "3.9.19"
  }
 },
 "nbformat": 4,
 "nbformat_minor": 2
}
